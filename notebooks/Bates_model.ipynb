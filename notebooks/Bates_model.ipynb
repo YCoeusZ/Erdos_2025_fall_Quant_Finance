{
 "cells": [
  {
   "cell_type": "markdown",
   "id": "b5dc989f",
   "metadata": {},
   "source": [
    "# Concepts"
   ]
  },
  {
   "cell_type": "markdown",
   "id": "071562af",
   "metadata": {},
   "source": [
    "Define notations:  \n",
    "\n",
    "* $S_0$:= Current stock price. \n",
    "* $S_t$:= Stock price at time $t$. \n",
    "* $T$:= Time to expiration of option. \n",
    "* $c$:= Value of Euro call option to buy one share at current time. \n",
    "* $p$:= Value of Euro put option to sell one share at current time. \n",
    "* $r$:= Continuously compounded risk-free rate of interest for an investment maturing in time T. \n",
    "* $q$:= Continuously compounded dividend. \n",
    "* $K$:= Strike price of option. \n",
    "* $\\Phi$:= The CDF of the Standard normal distribution. \n",
    "<!-- * $\\sigma$:= The unit time std of log-return.  -->"
   ]
  },
  {
   "cell_type": "markdown",
   "id": "54e99086",
   "metadata": {},
   "source": [
    "### Put call parity [Hull, ch:11.4]"
   ]
  },
  {
   "cell_type": "markdown",
   "id": "61273115",
   "metadata": {},
   "source": [
    "Assuming that there is no dividend, and that the call and put options have the same strike price, being $K$ at time $T$. \n",
    "The following relationship is called the *Put Call Parity*: \n",
    "\n",
    "$$c + Ke^{-rT} = p + S_0$$"
   ]
  },
  {
   "cell_type": "markdown",
   "id": "3e1c62fd",
   "metadata": {},
   "source": [
    "### Implied Volatility [Hull, ch:15.11]"
   ]
  },
  {
   "cell_type": "markdown",
   "id": "0133c04e",
   "metadata": {},
   "source": [
    "The volatility implied by option prices observed in the market is known as the *Implied Volatility*. Recall the Black-Scholes-Merton formula for the prices of Euro call and put options (*BSM pricing formula*, see [Hull, ch:15.8]): \n",
    "\n",
    "$$\n",
    "c = S_0\\Phi(d1) - Ke^{-rT}\\Phi(d2)\\; \\text{  ,and  }\\; p=KE^{-rT}\\Phi(-d2)-S_0\\Phi(-d1) \\; . \n",
    "$$ \n",
    "\n",
    "Where \n",
    "\n",
    "$$\n",
    "d_1 = \\frac{\\ln\\left(\\frac{S_0}{K}\\right) + \\left(r + \\frac{\\sigma^2}{2}\\right)t}{\\sigma \\sqrt{t}} \\qquad\\text{and}\\qquad\n",
    "d_2 = d_1 - \\sigma\\sqrt{t} \\; .\n",
    "$$"
   ]
  },
  {
   "cell_type": "markdown",
   "id": "0c4e30c8",
   "metadata": {},
   "source": [
    "The *Implied Volatility* is the value of $\\sigma$, when substituded into the BSM pricing formula, produces the desired $c$ and $p$ with pre-determined $S_0$, $K$, $r$, and $T$. "
   ]
  },
  {
   "cell_type": "markdown",
   "id": "16eb2296",
   "metadata": {},
   "source": [
    "### Volatility Smile [Hull, ch:20]"
   ]
  },
  {
   "cell_type": "markdown",
   "id": "3c3b8178",
   "metadata": {},
   "source": [
    "A plot of implied volatility of an option with a certain life as a function of its strike price is known a *Volatility Smile*. \n",
    "\n",
    "This is the same for Euro Call and Put ([Hill, ch:20.1], a result of the Put Call Parity). "
   ]
  },
  {
   "cell_type": "markdown",
   "id": "51ede811",
   "metadata": {},
   "source": [
    "### Jumps "
   ]
  },
  {
   "cell_type": "markdown",
   "id": "4e4376ab",
   "metadata": {},
   "source": [
    "The *Jumps* are the non-continuous changes occur in the stock price, intuitively, the \"sudden changes\" impacting the stock, this is simulated with through the *Compounded Poisson Process* in our model. "
   ]
  },
  {
   "cell_type": "markdown",
   "id": "048d2f29",
   "metadata": {},
   "source": [
    "#### Poisson distribution\n",
    "\n",
    "Let $\\lambda$ be the *average rate of occurrence in unit time (i.e. intensity)*, the *Poisson Distribution with intensity $\\lambda$*, denoted $X \\sim Poison(\\lambda)$ has pmf\n",
    "\n",
    "$$\n",
    "P(X=k) = \\begin{cases}\n",
    "        \\frac{e^{-\\lambda t} (\\lambda t)^k}{k!} & k \\in \\mathbb{N}_{\\geq 0} \\\\ \n",
    "        0 & o.w. \n",
    "\\end{cases}\n",
    "$$\n",
    "\n",
    "Where $t$ is the time span, measured in unit time. Intuitively, the pmf of the Poisson distribution is the *probability of $k$ occurrence during the time span $t$*. \n",
    "We have that $\\mathbb{E}[X]=Var(X)=\\lambda t$. \n",
    "\n",
    "#### The Poisson process \n",
    "\n",
    "Let $N_t\\in \\mathbb{N}_{\\geq 0}$ counts how many events (jumps, for our context) has occurred up to time $t$. Then for $h>0$, we have \n",
    "\n",
    "$$\n",
    "P(N_{t+h}-N_t = k) = e^{-\\lambda h}\\frac{(\\lambda h)^k}{k!}\n",
    "$$\n",
    "\n",
    "We have that $\\mathbb{E}[N_t]=\\lambda t$, and $Var(N_t)=\\lambda t$. This $N_t$ is known as the *Poisson Process*. "
   ]
  },
  {
   "cell_type": "markdown",
   "id": "d8707a19",
   "metadata": {},
   "source": [
    "#### Compounded Poisson Process (CPP)\n",
    "\n",
    "Let $\\{{Y_k}\\}_{k\\geq 1}$ be i.i.d *log jump sizes*, independent of Poisson Process $N_{t}$'s. We define the *Compound Poisson Process (CPP)* as \n",
    "\n",
    "$$\n",
    "J_t := \\sum\\limits^{N_t}_{k=1} Y_k \n",
    "$$\n",
    "\n",
    "With convention that $J_t:=0$ when $N_t=0$. \n",
    "\n",
    "<!-- Intuitively, this provides the *sum of jump impact* in our context.  -->\n",
    "Under the assumption that $\\mathbb{E}[|Y|]<\\infty$ (here $Y$ has the same distribution as any of the $Y_k$'s), we have: \n",
    "\n",
    "* $\\mathbb{E}[J_t]=\\lambda t \\mathbb{E}[Y]$ \n",
    "* $Var(J_t)=\\lambda t \\mathbb{E}[Y^2]$\n",
    "\n",
    "Both of above are received through simple algebra, with the linearity of expected value and law of total variance. \n",
    "\n",
    "The CPP will be applied as the *log jump of asset* (i.e. the jump happening at $k$, being $Y_k$, will multiply the asset value by $e^{Y_k}$). "
   ]
  },
  {
   "cell_type": "markdown",
   "id": "19e7f0a3",
   "metadata": {},
   "source": [
    "### Instantaneous Variance of return (Not sure)"
   ]
  },
  {
   "cell_type": "markdown",
   "id": "d614f146",
   "metadata": {},
   "source": [
    "The *instantaneous variance of return* is \n",
    "\n",
    "$$\n",
    "v_t:=\\lim\\limits_{\\Delta t \\to 0} \\frac{1}{\\Delta t} Var(log(S_{t+\\Delta t}) - log(S_t)|\\mathcal{F}_t)\\; \\text{Without the non-continuous impact (i.e. ignoring jumps) over time span } \\Delta t\n",
    "$$\n",
    "\n",
    "Where $\\mathcal{F}_t$ is a filtration that can be understood at the *information up to time $t$*, to be concise, this means that the variance is conditioned on history ending at $t$. \n",
    "\n",
    "<!-- Intuitively, the instantaneous variance of return is the rate at with the continuous part of the log-returns accumulates variance.  -->"
   ]
  },
  {
   "cell_type": "markdown",
   "id": "8c8cf291",
   "metadata": {},
   "source": [
    "### Martingale \n",
    "\n",
    "A stochastic process $Y_t$ is a *Martingale* if for all $t$, we have: \n",
    "* $\\mathbb{E}[|Y_t|]<\\infty$. \n",
    "* $\\mathbb{E}[Y_t|\\{Y_{\\tau}, \\tau\\leq s\\}]=Y_s$ for all $s\\leq t$. "
   ]
  },
  {
   "cell_type": "markdown",
   "id": "a3136ef8",
   "metadata": {},
   "source": [
    "### Brownian motion \n",
    "\n",
    "The *Brownian motion* is a continuous stochastic process $W(t)$ for $t\\geq 0$ where: \n",
    "* $W(0)=0$. \n",
    "* For any $0\\leq t_0\\leq t_1\\leq, \\cdots, t_n$, $W(t_{i+1})-W(t_{i})$'s are independent. \n",
    "* $W(t_{i+1})-W(t_{i})\\sim \\mathcal{N}(0,t_{i+1}-t_{i})$. \n",
    "\n",
    "A Brownian motion is necessarily a Martingale. "
   ]
  },
  {
   "cell_type": "markdown",
   "id": "4632188c",
   "metadata": {},
   "source": [
    "### Generalized Wiener Process "
   ]
  },
  {
   "cell_type": "markdown",
   "id": "83ac0d43",
   "metadata": {},
   "source": [
    "A *Stochastic Differential Equation (SDE)* is called *Generalized Wiener Process (GWP)* when it is in the form of \n",
    "\n",
    "$$\n",
    "dX(t)=\\mu(t, X(t))\\;dt + \\sigma(t,X(t))\\;dW(t)\n",
    "$$\n",
    "\n",
    "Where $W(t)$ is a *Brownian motion* (We say this SDE is *driven by $W(t)$*), $\\mu$ is called the *drift*, $\\sigma$ is called the *diffusion*. ([StSh, ch:6.2]). \n",
    "\n"
   ]
  },
  {
   "cell_type": "markdown",
   "id": "a095205b",
   "metadata": {},
   "source": [
    "We collect following properties of GWP: \n",
    "\n",
    "* A GWP is a *Martingale* iff the drift is zero. "
   ]
  },
  {
   "cell_type": "markdown",
   "id": "f3403f87",
   "metadata": {},
   "source": [
    "### Ito's Formula [StSh, ch:4.4]"
   ]
  },
  {
   "cell_type": "markdown",
   "id": "34b54b7b",
   "metadata": {},
   "source": [
    "If $f(t,x)$ has continuous partial derivatives once in $t$ and twice in $x$, then, for a GWP as in \"Generalized Wiener Process\" above: \n",
    "\n",
    "$$\n",
    "df(t,X(t)) = f_t\\;dt + f_xdX(t) + \\frac{1}{2}f_{xx}(dX(t))^2 = (f_t + \\mu f_x + \\frac{1}{2} \\sigma^2 f_{xx})dt + \\sigma f_x dW(t) \\; . \n",
    "$$\n",
    "\n",
    "For a vector $X(t)\\in \\mathbb{R}^n$ (with $W(t)\\in \\mathbb{R}^m$) in form \n",
    "\n",
    "$$ \n",
    "dX(t)=\\mu(t,X(t))\\;dt + \\Sigma(t,X(t))\\;dW(t) \\; ,\n",
    "$$\n",
    "\n",
    "let $a:=\\Sigma(t,X(t))\\Sigma(t,X(t))^{\\top}$, \n",
    "the *Ito's formula* says: \n",
    "\n",
    "$$\n",
    "df(t, X(t))=f_t\\;dt + \\nabla f^{\\top} dX(t) + \\frac{1}{2}Tr(a\\nabla^2f) dt \\; . \n",
    "$$"
   ]
  },
  {
   "cell_type": "markdown",
   "id": "5bfe0023",
   "metadata": {},
   "source": [
    "### Quadratic Covariation (Variance version can be seen at [StSh, ch:3.4.2])\n",
    "\n",
    "Let $f_1$ and $f_2$ be a functions defined on $t\\in [0,T]$. The *Quadratic Covariance* of pair $(f_1, f_2)$ up to time $T$ is \n",
    "\n",
    "$$\n",
    "[f_1, f_2](T):=\\lim\\limits_{|\\Pi|\\to 0} \\sum\\limits_{j=0}^{n-1}(f_1(t_{j+1})-f_1(t_j))(f_2(t_{j+1})-f_2(t_j))\\; ,\n",
    "$$ \n",
    "\n",
    "where $\\Pi:=\\{0=t_0,\\cdots, t_n=T\\}$ with $t_{j}<t_{j+1}$. \n",
    "\n",
    "In context when $T$ is clear, we simply write $[f_1, f_2]$ instead, and often denote $d[f_1, f_2]:=df_1\\; df_2$ (both sides in respect to $t$, \"$dW_1(t)\\;dW_2(t)=\\rho\\; dt$\" in \"Heston model (Risk neutral)\" below is an example of this notation, see [StSh, ch:3.4.2] for more example of this notaion). "
   ]
  },
  {
   "cell_type": "markdown",
   "id": "3c979591",
   "metadata": {},
   "source": [
    "### Heston model (Risk neutral)"
   ]
  },
  {
   "cell_type": "markdown",
   "id": "d3c66dea",
   "metadata": {},
   "source": [
    "In context of *Heston Model*, we define $X(t):=(S_t, v_t)^{\\top}$ where \n",
    "* $S_t$:= Stock price at time $t$ \n",
    "* $v_t$:= *Instantaneous variance* of log return (same as instantaneous variance of simple return)\n",
    "\n",
    "We also define the *Brownian Drivers* in current context: $W(t):=(W_1(t), W_2(t))^{\\top}$ with $dW_1(t)\\;dW_2(t)=\\rho\\; dt$ for $\\rho\\in [-1,1]$. \n",
    "$\\rho$ is the instantaneous correlation between S_t and v_t. \n",
    "\n",
    "The GWP of *(Risk Neutral) Heston Model* is given by \n",
    "\n",
    "$$\n",
    "dX(t)=b(X(t))dt + \\Sigma(X(t))dW(t)\\; ,\n",
    "$$\n",
    "\n",
    "where $b(S,v):=\\begin{pmatrix}(r-q)S \\\\ \\kappa (\\theta - v)\\end{pmatrix}$, and $\\Sigma(S,v):=\\begin{pmatrix}\\sqrt{v}S & 0 \\\\ 0 & \\sigma\\sqrt{v}\\end{pmatrix}$ with $\\kappa$ being the speed of mean reversion of $v_t$, $\\theta$ being the long run mean level of $v_t$, and $\\sigma$ being the variance of $v_t$. \n",
    "\n",
    "The *Instantaneous Covariance* of $(dS_t, dv_t)$ is $\\Sigma \\begin{pmatrix}1 & \\rho \\\\ \\rho & 1\\end{pmatrix} \\Sigma^{\\top} \\; dt = \\begin{pmatrix}v_tS_t^2 & \\rho \\sigma v_t S_t \\\\ \\rho \\sigma v_t S_t & \\sigma^2 v\\end{pmatrix}\\; dt$\n",
    "\n",
    "**Remark**: The \"Risk Neutral\" is achieved through the *Girsanov's Theorem* (e.g. see [StSh, ch:5.4.1]) by applying a change of measure from \"Real world probability measure\" to \"risk-neutral measure $Q$\". It should be noted that this is significant because the SDE for discounted price under the risk neutral model has zero drift, making it a Martingale. \n",
    "\n",
    "**Remark**: It is understood that **WE ARE CONSTANTLY OPERATING IN Q MEASURE!!!** To be more precise, we should have written, for instance, $\\mathbb{P}^P$ and $\\mathbb{P}^Q$ to distinguish between measures, but this is really not necessary unless we go deep into the math. Since our goal is to create a simulation, we will opt to assume that we are always within measure $Q$, in the sense that $\\mathbb{P}:=\\mathbb{P}^Q$ (and similar for other notations when applicable). "
   ]
  },
  {
   "cell_type": "markdown",
   "id": "3957111a",
   "metadata": {},
   "source": [
    "### Bates model (Risk Neutral), the main reference for this topic is [DB]"
   ]
  },
  {
   "cell_type": "markdown",
   "id": "d2345acc",
   "metadata": {},
   "source": [
    "#### The GWP SDE of Risk Neutral Bates Model \n",
    "\n",
    "Intuitively, the *Risk Neutral Bates Model* adds Jump impact (simulated with Poisson process) to the risk neutral Heston model. \n",
    "\n",
    "We inherit notations $S_t$, $v_t$, $\\rho$, $\\sigma$, $\\kappa$, and $W(t)$ from the context of risk neutral Heston model. \n",
    "\n",
    "We add that: \n",
    "* $N\\sim N_t$ being Poisson process with intensity $\\lambda$ (As introduced in \"The Poisson Process\" above). \n",
    "* $Y\\sim Y_k \\sim\\mathcal{N}(\\mu_Y, \\delta^2_Y)$ i.i.d, and independent of $(W_1(t), W_2(t), N)$. These $Y_k$'s are the *log jump* of the stock price (As introduced in \"Compounded Poisson Process (CPP)\" above). \n",
    "* $S_{t^-}:= \\lim\\limits_{s\\to t} S_s$. \n",
    "* $\\kappa_Y:=\\mathbb{E}[e^Y-1]=e^{\\mu_Y+\\frac{1}{2}\\delta^2_Y}-1$. \n",
    "\n",
    "The GWP of *Risk Neutral Bates Model* is (we will not be using the matrix form here): \n",
    "\n",
    "$$\n",
    "dS_t = (r-q-\\lambda\\kappa_Y)S_{t^-}\\; dt + \\sqrt{v_t}S_{t^-}\\;dW_1(t) + (e^Y - 1)S_{t^-}\\; dN_t\\;, \\\\ \n",
    "dv_t = \\kappa(\\theta - v_t)\\; dt + \\sigma\\sqrt{v_t}\\;dW_2(t)\\; , \\\\ \n",
    "\\text{ and } dW_1(t)dW_2(t)= \\rho\\; dt\\; .\n",
    "$$\n",
    "\n",
    "We also provide the log price form (Received by applying the Ito's formula): \n",
    "\n",
    "$$\n",
    "d(log(S_t))= (r-q-\\lambda\\kappa_Y-\\frac{v_t}{2})\\; dt + \\sqrt{v_t}\\; dW_1(t) + Y\\; dN_t\\; . \n",
    "$$\n",
    "\n",
    "The *Instantaneous Covariance* of $(dS_t, dv_t)$ remains $\\begin{pmatrix}v_tS_t^2 & \\rho \\sigma v_t S_t \\\\ \\rho \\sigma v_t S_t & \\sigma^2 v\\end{pmatrix}\\; dt$. \n",
    "\n",
    "**Remark**: Let there be a jump at time $\\tau$, then there is discontinuity in $S_{\\tau}$, and we can express $S_{\\tau}=S_{\\tau^-}e^Y$. The jump adds discontinuity to $S_t$ only. "
   ]
  },
  {
   "cell_type": "markdown",
   "id": "39a7d96a",
   "metadata": {},
   "source": [
    "#### \"Solving\" the SDE of Risk Neutral Bates Model \n",
    "\n",
    "We denote $X_t:= log(S_t)$ and take the integral: \n",
    "\n",
    "$$ \n",
    "X_T = X_0 + \\int_0^T (r-q-\\lambda\\kappa_Y-\\frac{1}{2}v_s)\\;ds + \\int_0^T \\sqrt{v_s}\\; dW_1(s) + \\sum\\limits_{k=1}^{N_T} T_k\\; , \\\\ \n",
    "v_T = v_0 + \\int_0^T\\kappa(\\theta - v_s)\\; ds + \\int_0^T\\sigma\\sqrt{v_s}\\; dW_2(s)\\; . \n",
    "$$\n",
    "\n",
    "##### **We first focus on the Brownian pair $(W_1, W_2)$**: \n",
    "\n",
    "It must satisfy: \n",
    "$$\n",
    "\\mathbb{E}[\\Delta W_*]=0\\; , \\text{ and } \\; Var(\\Delta W_*) = \\Delta t\\; . \n",
    "$$\n",
    "Now, notice that \n",
    "$$\n",
    "Cov(\\Delta W_1, \\Delta W_2) = \\mathbb{E}[\\Delta W_1 \\Delta W_2] - \\mathbb{E}[\\Delta W1]\\mathbb{E}[\\Delta W_2] = \\mathbb{E}[\\Delta W_1 \\Delta W_2]\\; . \n",
    "$$\n",
    "We observe with that (this is just product rule)\n",
    "$$\n",
    "\\Delta (W_1 W_2) = W_1(t+\\Delta t) W_2(t+\\Delta t) - W_1(t)W_2(t) = W_1(t)\\Delta W_2 + W_2(t)\\Delta W_1 + \\Delta W_1\\Delta W_2\\; . \n",
    "$$\n",
    "By *Doob-Meyer characterization* of $[W_1,W_2]$, we have that \n",
    "$$\n",
    "W_1W_2-[W_1,W_2] \\text{ is a Martingale}\\; ,   \n",
    "$$\n",
    "and this implies that \n",
    "$$\n",
    "\\mathbb{E}[\\Delta(W_1 W_2)] = \\mathbb{E}[\\Delta[W_1, W_2]]\\; .\n",
    "$$\n",
    "Since both $W_1$ and $W_2$ are Brownian motions (and hence, Martingales), we have \n",
    "$$\n",
    "\\mathbb{E}[\\Delta W_1\\Delta W_2]=\\mathbb{E}[\\Delta[W_1,W_2]]\\; .\n",
    "$$\n",
    "This means that the Brownian pair must ALSO satisfy: \n",
    "$$\n",
    "Cov(\\Delta W_1, \\Delta W_2)=\\rho \\Delta t\\; . \n",
    "$$\n",
    "By definition of Brownian motion and above, the pair $(\\Delta W_1, \\Delta W_2)$ is a bivariate normal distribution with covariance matrix \n",
    "$$\n",
    "\\begin{pmatrix}\\Delta t & \\rho \\Delta t \\\\ \\rho\\Delta t & \\Delta t\\end{pmatrix}\\; , \n",
    "$$\n",
    "and mean $\\mu=(0,0)^{\\top}$. \n",
    "Solving $LL^{\\top}=\\begin{pmatrix}\\Delta t & \\rho \\Delta t \\\\ \\rho\\Delta t & \\Delta t\\end{pmatrix}$, we have \n",
    "$$\n",
    "L=\\sqrt{\\Delta t}\\begin{pmatrix}1 & 0 \\\\ \\rho & \\sqrt{1-\\rho^2}\\end{pmatrix}\\; . \n",
    "$$\n",
    "**This allows us to simulate $(\\Delta W_1, \\Delta W_2)$** discretely with: \n",
    "\n",
    "Let $Z_1, Z_2 \\sim \\mathcal{N}(0,1)$ i.i.d.., we have that: \n",
    "$$\n",
    "\\begin{pmatrix}\\Delta W_1 \\\\ \\Delta W_2\\end{pmatrix} = L \\begin{pmatrix}Z_1 \\\\ Z_2\\end{pmatrix} = \\begin{pmatrix}\\ \\sqrt{\\Delta t}Z_1\\\\ \\rho\\sqrt{\\Delta t}Z_1 + \\sqrt{1-\\rho^2}\\sqrt{\\Delta t}Z_2 \\end{pmatrix}\\; . \n",
    "$$"
   ]
  },
  {
   "cell_type": "markdown",
   "id": "a5a572d4",
   "metadata": {},
   "source": [
    "#### **Creating the Volatility**: \n",
    "The key is noticing that we can NOT allow negative volatility, so we will have to \"Force non-negativity\" through \n",
    "$$\n",
    "v^+_n:=max(v_n, 0)\\; . \n",
    "$$\n",
    "And we have \n",
    "$$\n",
    "v_{n+1} = v_n + \\kappa(\\theta - v_n^+)\\Delta t + \\sigma\\sqrt{v_n^+} \\Delta W_2\\; \n",
    "$$\n",
    "in the time-recursive update before we set $v_{n+1}^+:= max(v_{n+1},0)$. \n",
    "\n",
    "Notice that, unfortunately, this can not be done in a \"vectorized\" way. "
   ]
  },
  {
   "cell_type": "markdown",
   "id": "23339f76",
   "metadata": {},
   "source": [
    "#### **We move on the considering the jumps between $[t_{n}, t_{n+1}]$**: \n",
    "\n",
    "Between time steps $t_n$ and $t_{n+1}$, we have: \n",
    "* Number of jumps: $K\\sim Poisson(\\lambda \\Delta t)$. \n",
    "* Given that $K$ is positive, we draw $Y_1,\\cdots, Y_K\\sim \\mathcal{N}(\\mu_Y, \\delta^2_Y)$ i.i.d.. \n",
    "* Given $K$ positive, we have the *compounded jump* between the two time steps be \n",
    "$$\n",
    "\\Delta Y = (\\sum\\limits_{k=1}^{K} Y_k) \\sim \\mathcal{N}(K\\mu_Y, K\\delta^2_Y)\\; . \n",
    "$$\n",
    "* And $\\Delta Y=0$ if $K=0$. "
   ]
  },
  {
   "cell_type": "markdown",
   "id": "4d04085f",
   "metadata": {},
   "source": [
    "#### **Bring everything together to create the time recursive model**: \n",
    "We have \n",
    "$$\n",
    "X_{n+1} = X_n + (r-q-\\lambda\\kappa_Y - \\frac{v_n^+}{2})\\Delta t + \\sqrt{v_n^+}\\Delta W_1 + \\Delta Y\\; . \n",
    "$$\n",
    "And then $S_{n+1}= e^{X_{n+1}}$. \n",
    "\n",
    "We summarize what has to be done in the simulation of stock prices: \n",
    "* Create the discrete Brownian pairs according the $\\Delta t$. \n",
    "* The $v_n$'s have to be done in the time-recursive way. \n",
    "* The jumps between time steps can be created in a vectorized way. \n",
    "* The difference between $X_n$'s and the next can be created in a vectorized way. Then the $X_n$'s can be created with a np.cumsum before used as power of $e$ to create the actual stock price $S_n$'s. "
   ]
  },
  {
   "cell_type": "code",
   "execution_count": 12,
   "id": "d9b50dfc",
   "metadata": {},
   "outputs": [],
   "source": [
    "import importlib \n",
    "import sys \n",
    "\n",
    "sys.path.append(\"../\")\n",
    "\n",
    "from proj_mod import stock_sim \n",
    "importlib.reload(stock_sim); "
   ]
  },
  {
   "cell_type": "code",
   "execution_count": 13,
   "id": "c5fa8515",
   "metadata": {},
   "outputs": [],
   "source": [
    "vol_param=stock_sim.Vol_params(kappa=1.5, theta=0.04, sigma=0.5, rho=-0.7, v0=0.04)\n",
    "jump_param=stock_sim.Jump_params(lam_J=1, mu_J=0, sig_J=0.1)\n",
    "market_param=stock_sim.Market_params(r=0.05, q=0.05)\n",
    "Bates_param=stock_sim.Bates_params(s0=100, vol=vol_param, jump=jump_param, market=market_param)\n",
    "\n",
    "Bates_model=stock_sim.Bates_model_risk_free(params=Bates_param)"
   ]
  },
  {
   "cell_type": "code",
   "execution_count": 14,
   "id": "0f43db30",
   "metadata": {},
   "outputs": [
    {
     "data": {
      "text/plain": [
       "<proj_mod.stock_sim.Bates_model_risk_free at 0x7f53430d2810>"
      ]
     },
     "execution_count": 14,
     "metadata": {},
     "output_type": "execute_result"
    }
   ],
   "source": [
    "Bates_model.bates_create_paths(n_paths=10, n_steps=252, time_len=1, seed=420)"
   ]
  },
  {
   "cell_type": "code",
   "execution_count": 15,
   "id": "fcad65cc",
   "metadata": {},
   "outputs": [
    {
     "data": {
      "text/plain": [
       "array([[100.        ,  99.43171554,  97.78279241, ..., 100.31104284,\n",
       "         99.90193214, 100.52294218],\n",
       "       [100.        , 100.79737538,  99.50113908, ..., 124.38751831,\n",
       "        124.25854551, 124.40836167],\n",
       "       [100.        , 100.53673532, 103.29087728, ..., 108.31471271,\n",
       "        108.33618733, 108.77875271],\n",
       "       ...,\n",
       "       [100.        , 100.20451698,  98.45919691, ...,  85.03899969,\n",
       "         85.70053843,  86.63327853],\n",
       "       [100.        ,  98.89506113,  99.15187828, ...,  95.92834215,\n",
       "         93.54549096,  95.57100711],\n",
       "       [100.        , 101.23456944, 101.58681072, ..., 112.82721571,\n",
       "        112.82854197, 113.08441867]])"
      ]
     },
     "execution_count": 15,
     "metadata": {},
     "output_type": "execute_result"
    }
   ],
   "source": [
    "Bates_model.S_"
   ]
  },
  {
   "cell_type": "code",
   "execution_count": 16,
   "id": "686564ec",
   "metadata": {},
   "outputs": [
    {
     "data": {
      "image/png": "[encoded data removed]",
      "text/plain": [
       "<Figure size 1200x600 with 1 Axes>"
      ]
     },
     "metadata": {},
     "output_type": "display_data"
    }
   ],
   "source": [
    "Bates_model.draw_paths()"
   ]
  },
  {
   "cell_type": "markdown",
   "id": "8d8f4423",
   "metadata": {},
   "source": [
    "### Estimated Call option payoff under risk neutral Bates model. "
   ]
  },
  {
   "cell_type": "markdown",
   "id": "da58c7d7",
   "metadata": {},
   "source": [
    "#### **Monte Carlo (MC) method**  "
   ]
  },
  {
   "cell_type": "markdown",
   "id": "f6ee8793",
   "metadata": {},
   "source": [
    "With MC method, the *call option price (discounted to time 0)* is \n",
    "$$\n",
    "C_0=e^{-rT}\\mathbb{E}[max(S_T-K,0)]\\; ,\n",
    "$$\n",
    "where $K$ is the *Strike Price*, we will estimate this with mean of $max(S_T-K,0)$. And the estimated std is \n",
    "$$\n",
    "\\hat{std}_{\\hat{C_0}} = e^{-rT}\\frac{\\hat{std}(max(S_T-K,0))}{\\sqrt{N}}\\; , \n",
    "$$\n",
    "where $N$ is the number of simulated paths. "
   ]
  },
  {
   "cell_type": "code",
   "execution_count": 17,
   "id": "cf3a5019",
   "metadata": {},
   "outputs": [
    {
     "data": {
      "text/plain": [
       "<proj_mod.stock_sim.Bates_model_risk_free at 0x7f53430d0950>"
      ]
     },
     "execution_count": 17,
     "metadata": {},
     "output_type": "execute_result"
    }
   ],
   "source": [
    "import importlib \n",
    "import numpy as np\n",
    "import sys \n",
    "\n",
    "sys.path.append(\"../\")\n",
    "\n",
    "from proj_mod import stock_sim \n",
    "importlib.reload(stock_sim); \n",
    "\n",
    "vol_param=stock_sim.Vol_params(kappa=1.5, theta=0.04, sigma=0.5, rho=-0.7, v0=0.04)\n",
    "jump_param=stock_sim.Jump_params(lam_J=1, mu_J=0, sig_J=0.1)\n",
    "market_param=stock_sim.Market_params(r=0.05, q=0.05)\n",
    "Bates_param=stock_sim.Bates_params(s0=100, vol=vol_param, jump=jump_param, market=market_param)\n",
    "\n",
    "Bates_model=stock_sim.Bates_model_risk_free(params=Bates_param)\n",
    "\n",
    "Bates_model.bates_create_paths(n_paths=1000, n_steps=252, time_len=1, seed=420)"
   ]
  },
  {
   "cell_type": "code",
   "execution_count": 18,
   "id": "e0f0c447",
   "metadata": {},
   "outputs": [
    {
     "data": {
      "text/html": [
       "<div>\n",
       "<style scoped>\n",
       "    .dataframe tbody tr th:only-of-type {\n",
       "        vertical-align: middle;\n",
       "    }\n",
       "\n",
       "    .dataframe tbody tr th {\n",
       "        vertical-align: top;\n",
       "    }\n",
       "\n",
       "    .dataframe thead th {\n",
       "        text-align: right;\n",
       "    }\n",
       "</style>\n",
       "<table border=\"1\" class=\"dataframe\">\n",
       "  <thead>\n",
       "    <tr style=\"text-align: right;\">\n",
       "      <th></th>\n",
       "      <th>K</th>\n",
       "      <th>C_0_mu</th>\n",
       "      <th>C_0_std</th>\n",
       "    </tr>\n",
       "  </thead>\n",
       "  <tbody>\n",
       "    <tr>\n",
       "      <th>0</th>\n",
       "      <td>100.0</td>\n",
       "      <td>7.571021</td>\n",
       "      <td>0.343997</td>\n",
       "    </tr>\n",
       "    <tr>\n",
       "      <th>1</th>\n",
       "      <td>110.0</td>\n",
       "      <td>3.518634</td>\n",
       "      <td>0.247318</td>\n",
       "    </tr>\n",
       "  </tbody>\n",
       "</table>\n",
       "</div>"
      ],
      "text/plain": [
       "       K    C_0_mu   C_0_std\n",
       "0  100.0  7.571021  0.343997\n",
       "1  110.0  3.518634  0.247318"
      ]
     },
     "execution_count": 18,
     "metadata": {},
     "output_type": "execute_result"
    }
   ],
   "source": [
    "Bates_model.bates_est_call_payoff_MC(strike_price=np.array([100,110]), time_len=1, save_payoff=True)"
   ]
  },
  {
   "cell_type": "code",
   "execution_count": 22,
   "id": "f93abeb0",
   "metadata": {},
   "outputs": [
    {
     "data": {
      "image/png": "[encoded data removed]",
      "text/plain": [
       "<Figure size 640x480 with 2 Axes>"
      ]
     },
     "metadata": {},
     "output_type": "display_data"
    }
   ],
   "source": [
    "import matplotlib.pyplot as plt \n",
    "\n",
    "fig, axs = plt.subplots(2,1)\n",
    "\n",
    "axs[0].hist(Bates_model.call_MC_payoff_[list(Bates_model.call_MC_payoff_.keys())[0]], bins=50)\n",
    "axs[0].set_title(f\"Distribution of Estimated discounted payoff with strike price {list(Bates_model.call_MC_payoff_.keys())[0]}\")\n",
    "axs[0].set_xlabel(\"Estimated discounted payoff\")\n",
    "axs[0].set_ylabel(\"Frequency\")\n",
    "\n",
    "axs[1].hist(Bates_model.call_MC_payoff_[list(Bates_model.call_MC_payoff_.keys())[1]], bins=50)\n",
    "axs[1].set_title(f\"Distribution of Estimated discounted payoff with strike price {list(Bates_model.call_MC_payoff_.keys())[1]}\")\n",
    "axs[1].set_xlabel(\"Estimated discounted payoff\")\n",
    "axs[1].set_ylabel(\"Frequency\")\n",
    "\n",
    "plt.subplots_adjust(hspace=0.5)\n",
    "\n",
    "plt.show()"
   ]
  },
  {
   "cell_type": "markdown",
   "id": "dd953a4f",
   "metadata": {},
   "source": [
    "#### **\"Closed\" formula for call payoff estimation**"
   ]
  },
  {
   "cell_type": "markdown",
   "id": "a2a0ef14",
   "metadata": {},
   "source": [
    "First, consider fact that \n",
    "$$\n",
    "max(S_T-K,0) = S_T\\mathbb{1}_{\\{S_T>K\\}} - K\\mathbb{1}_{\\{S_T>K\\}}\\; , \n",
    "$$\n",
    "where $\\mathbb{1}_{*}$ is the *identifier function* that returns $1$ iff $*$ is true and 0 otherwise. \n",
    "We have \n",
    "$$\n",
    "C_0 = e^{-rT}\\mathbb{E}[S_T\\mathbb{1}_{S_T>K}] - Ke^{-rT}\\mathbb{E}[\\mathbb{1}_{S_T>K}]\\; .\n",
    "$$\n",
    "The key to solving for the \"closed\" formula is now reduced to solving for $\\mathbb{E}[S_T\\mathbb{1}_{S_T>K}]$ and $\\mathbb{E}[\\mathbb{1}_{S_T>K}]=\\mathbb{P}(S_T>K)$. "
   ]
  },
  {
   "cell_type": "markdown",
   "id": "3aba1d47",
   "metadata": {},
   "source": [
    "#### **Solving with the characteristic function**\n",
    "We use notation $X_T:=log(S_T)$ and $k:=log(K)$. We define \n",
    "$$\n",
    "\\phi(u,T):=\\mathbb{E}[e^{iuX_T}] = \\int_{-\\infty}^{\\infty}e^{iuX_T}p(X_T)\\;dX_T\\; ,\n",
    "$$\n",
    "for $u\\in \\mathbb{R}$ and $p$ being the pdf of distribution of $X_T$, to be the *Characteristic function*. Under the context of Bates (and Heston) model, we may further allow $u\\in \\mathbb{C}$. \n",
    "*Fourier inverting* the *Fourier Form* of $\\mathbb{1}_{\\{y>0\\}}$ (this identifier function is also called the \"*Heaviside step function*\", often denoted as \"$H(y)$\"), we have that (for arbitrary $x$ and $k$) \n",
    "$$\n",
    "\\mathbb{1}_{\\{x-k>0\\}}=\\frac{1}{2} + \\frac{1}{\\pi}\\int_{0}^{\\infty}\\frac{sin(u(x-k))}{u}\\;du = \\frac{1}{2} + \\frac{1}{\\pi}Real(\\int_{0}^{\\infty}\\frac{e^{iu(x-k)}}{iu}\\; du)\\; . \n",
    "$$\n",
    "Now, observe that \n",
    "$$\n",
    "\\mathbb{E}[\\mathbb{1}_{\\{X_T> k\\}}] = \\frac{1}{2} + \\frac{1}{\\pi}Real(\\int_0^{\\infty}\\frac{e^{-iuk}\\; \\mathbb{E}[e^{iuX_T}]}{iu}\\; du) =  \\frac{1}{2} + \\frac{1}{\\pi}Real(\\int_0^{\\infty}\\frac{e^{-iuk}\\; \\phi(u,T)}{iu}\\; du)\\; . \n",
    "$$\n",
    "\n",
    "We do similar thing for $\\mathbb{E}[S_T\\mathbb{1}_{S_T>K}]$, first, consider that, for arbitrary $x$ and $k$, we have \n",
    "$$\n",
    "e^x\\mathbb{1}_{x>k}=\\frac{e^x}{2}+e^k(\\frac{1}{\\pi}Real(\\int_0^{\\infty} \\frac{e^{(1+iu)(x-k)}}{iu}\\; du))\\; .\n",
    "$$\n",
    "We, thus, have \n",
    "$$\n",
    "\\mathbb{E}[S_T\\mathbb{1}_{S_T>K}]=\\mathbb{E}[e^{X_T}\\mathbb{1}_{\\{X_T>k\\}}]=\\frac{\\mathbb{E}[e^{X_T}]}{2} + \\frac{1}{\\pi}Real(\\int_0^{\\infty}\\frac{e^{-iuk}\\mathbb{E}[e^{(1+iu)X_T}]}{iu}\\; du) = \\frac{\\phi(-i,T)}{2} + \\frac{1}{\\pi}Real(\\int_0^{\\infty}\\frac{e^{-iuk}\\phi(u-i, T)}{iu}\\; du)\\; .\n",
    "$$\n",
    "Further, notice that $\\phi(-i,T)=\\mathbb{E}[e^{X_T}]=S_0e^{(r-q)T}$ (this is a result from the following part of \"Simulation for the characteristic function method\"'s equation for $\\phi(u,T)$ in the last item in step 1), we have \n",
    "$$\n",
    "\\mathbb{E}[S_T\\mathbb{1}_{S_T>K}]=S_0e^{(r-q)T}(\\frac{1}{2} + \\frac{1}{\\pi}Real(\\int_0^{\\infty}\\frac{e^{-iuk}\\phi(u-i,T)}{iu\\phi(-i,T)}\\; du))\\; . \n",
    "$$"
   ]
  },
  {
   "cell_type": "markdown",
   "id": "b9881b4d",
   "metadata": {},
   "source": [
    "#### **Simulation for the characteristic function method [DB] [HPWJ] [RCPT]** \n",
    "\n",
    "We do this step by step as below: \n",
    "\n",
    "1. Calculate the characteristic function $\\phi(u,T)$: \n",
    "    - Calculate $\\alpha:= -u^2-iu$, and $\\beta:=\\kappa - \\rho\\sigma i u$. \n",
    "    - Calculate $d(u):=\\sqrt{\\beta^2 - \\alpha\\sigma^2}$, and then $g(u):=\\frac{\\beta - d(u)}{\\beta + d(u)}$. \n",
    "    - Calculate \n",
    "    $$\n",
    "    C(u,T):=\\frac{\\kappa\\theta}{\\sigma^2}((\\beta-d(u))T - 2log(\\frac{1-g(u)e^{-d(u)T}}{1-g(u)}))\\; , \\text{ and } D(u,T):=\\frac{(\\beta - d(u))(1-e^{-d(u)T})}{\\sigma^2(1-g(u)e^{-d(u)T})}\\; . \n",
    "    $$\n",
    "    - Calculate $\\phi(u,T)$ as \n",
    "    $$\n",
    "    \\phi(u,T)=exp(iu(log(S_0) + (r-q-\\lambda\\kappa_Y)T) + C(u,T) + D(u,T)v_0)\\times exp(\\lambda T (exp(iu\\mu_Y-\\frac{u^2\\delta^2_Y}{2})-1))\\; .\n",
    "    $$\n",
    "\n",
    "2. Calculate (approximate) the integrals $\\mathbb{E}[S_T\\mathbb{1}_{S_T>K}]$ and $\\mathbb{E}[\\mathbb{1}_{S_T>K}]=\\mathbb{P}(S_T>K)$ as: \n",
    "$$\n",
    "\\mathbb{E}[S_T\\mathbb{1}_{S_T>K}]\\approx E_1:=S_0e^{(r-q)T}(\\frac{1}{2} + \\frac{1}{\\pi}\\sum\\limits_m w_m\\; Real(\\frac{e^{-iu_mk}\\phi(u_m-i,T)}{iu_m\\phi(-i,T)}))\\; , \\text{ and } \\mathbb{E}[\\mathbb{1}_{S_T>K}]\\approx E_2:=\\frac{1}{2} + \\frac{1}{\\pi}\\sum\\limits_m w_m\\; Real(\\frac{e^{-iu_mk}\\phi(u_m,T)}{iu_m})\\; , \n",
    "$$\n",
    "where $u_m:=m\\;\\Delta u$ for $m\\in [1, n]$ and $w_m$ are weights for different rules for integral approximation (e.g. trapezoid rule has $w_1=w_n=\\frac{\\Delta u}{2}$, $w_m=\\Delta u$ for $m\\in[2, n-1]$). \n",
    "As a comment, in many texts, they use $P_1:=\\frac{E_1}{S_0e^{(r-q)T}}$ and $P_2:=E_2$. \n",
    "\n",
    "3. Approximate \n",
    "$$\n",
    "C_0 \\approx e^{-rT}E_1 - Ke^{-rT}E_2 = S_0 e^{-qT}P_1 + Ke^{-rT}P2\\; .\n",
    "$$"
   ]
  },
  {
   "cell_type": "code",
   "execution_count": 1,
   "id": "0fec06af",
   "metadata": {},
   "outputs": [],
   "source": [
    "import importlib \n",
    "import numpy as np\n",
    "import sys \n",
    "\n",
    "sys.path.append(\"../\")\n",
    "\n",
    "from proj_mod import stock_sim \n",
    "importlib.reload(stock_sim); \n",
    "\n",
    "vol_param=stock_sim.Vol_params(kappa=1.5, theta=0.04, sigma=0.5, rho=-0.7, v0=0.04)\n",
    "jump_param=stock_sim.Jump_params(lam_J=1, mu_J=0, sig_J=0.1)\n",
    "market_param=stock_sim.Market_params(r=0.05, q=0.05)\n",
    "Bates_param=stock_sim.Bates_params(s0=100, vol=vol_param, jump=jump_param, market=market_param)\n",
    "\n",
    "no_jump_param=stock_sim.Jump_params(lam_J=0, mu_J=0, sig_J=0)\n",
    "Heston_param=stock_sim.Bates_params(s0=100, vol=vol_param, jump=no_jump_param, market=market_param)\n",
    "\n",
    "strike_price=np.array([100,110])\n",
    "time_len=1\n",
    "\n",
    "Bates_model=stock_sim.Bates_model_risk_free(params=Bates_param)\n",
    "Heston_model=stock_sim.Bates_model_risk_free(params=Heston_param)\n",
    "\n",
    "Bates_model.bates_create_paths(n_paths=10000, n_steps=252, time_len=1, seed=420)\n",
    "Heston_model.bates_create_paths(n_paths=10000, n_steps=252, time_len=1, seed=420)\n",
    "\n",
    "Bates_model.bates_est_call_payoff_MC(strike_price=strike_price, time_len=time_len, save_payoff=True)\n",
    "Heston_model.bates_est_call_payoff_MC(strike_price=strike_price, time_len=time_len, save_payoff=True)\n",
    "\n",
    "Bates_model.bates_est_call_payoff_CF(strike_price=strike_price, time_len=time_len, u_max=800, du=1e-2)\n",
    "Heston_model.bates_est_call_payoff_CF(strike_price=strike_price, time_len=time_len, u_max=800, du=1e-2); "
   ]
  },
  {
   "cell_type": "code",
   "execution_count": 2,
   "id": "9f5781cd",
   "metadata": {},
   "outputs": [
    {
     "data": {
      "text/html": [
       "<div>\n",
       "<style scoped>\n",
       "    .dataframe tbody tr th:only-of-type {\n",
       "        vertical-align: middle;\n",
       "    }\n",
       "\n",
       "    .dataframe tbody tr th {\n",
       "        vertical-align: top;\n",
       "    }\n",
       "\n",
       "    .dataframe thead th {\n",
       "        text-align: right;\n",
       "    }\n",
       "</style>\n",
       "<table border=\"1\" class=\"dataframe\">\n",
       "  <thead>\n",
       "    <tr style=\"text-align: right;\">\n",
       "      <th></th>\n",
       "      <th>K</th>\n",
       "      <th>P_1</th>\n",
       "      <th>P_2</th>\n",
       "      <th>C_0</th>\n",
       "    </tr>\n",
       "  </thead>\n",
       "  <tbody>\n",
       "    <tr>\n",
       "      <th>0</th>\n",
       "      <td>100.0</td>\n",
       "      <td>0.639244</td>\n",
       "      <td>0.569122</td>\n",
       "      <td>6.670225</td>\n",
       "    </tr>\n",
       "    <tr>\n",
       "      <th>1</th>\n",
       "      <td>110.0</td>\n",
       "      <td>0.364927</td>\n",
       "      <td>0.308216</td>\n",
       "      <td>2.462643</td>\n",
       "    </tr>\n",
       "  </tbody>\n",
       "</table>\n",
       "</div>"
      ],
      "text/plain": [
       "       K       P_1       P_2       C_0\n",
       "0  100.0  0.639244  0.569122  6.670225\n",
       "1  110.0  0.364927  0.308216  2.462643"
      ]
     },
     "execution_count": 2,
     "metadata": {},
     "output_type": "execute_result"
    }
   ],
   "source": [
    "Heston_model.call_CF_"
   ]
  },
  {
   "cell_type": "code",
   "execution_count": 3,
   "id": "580ace60",
   "metadata": {},
   "outputs": [
    {
     "data": {
      "text/html": [
       "<div>\n",
       "<style scoped>\n",
       "    .dataframe tbody tr th:only-of-type {\n",
       "        vertical-align: middle;\n",
       "    }\n",
       "\n",
       "    .dataframe tbody tr th {\n",
       "        vertical-align: top;\n",
       "    }\n",
       "\n",
       "    .dataframe thead th {\n",
       "        text-align: right;\n",
       "    }\n",
       "</style>\n",
       "<table border=\"1\" class=\"dataframe\">\n",
       "  <thead>\n",
       "    <tr style=\"text-align: right;\">\n",
       "      <th></th>\n",
       "      <th>K</th>\n",
       "      <th>C_0_mu</th>\n",
       "      <th>C_0_std</th>\n",
       "    </tr>\n",
       "  </thead>\n",
       "  <tbody>\n",
       "    <tr>\n",
       "      <th>0</th>\n",
       "      <td>100.0</td>\n",
       "      <td>6.717036</td>\n",
       "      <td>0.087005</td>\n",
       "    </tr>\n",
       "    <tr>\n",
       "      <th>1</th>\n",
       "      <td>110.0</td>\n",
       "      <td>2.543083</td>\n",
       "      <td>0.054948</td>\n",
       "    </tr>\n",
       "  </tbody>\n",
       "</table>\n",
       "</div>"
      ],
      "text/plain": [
       "       K    C_0_mu   C_0_std\n",
       "0  100.0  6.717036  0.087005\n",
       "1  110.0  2.543083  0.054948"
      ]
     },
     "execution_count": 3,
     "metadata": {},
     "output_type": "execute_result"
    }
   ],
   "source": [
    "Heston_model.call_MC_"
   ]
  },
  {
   "cell_type": "code",
   "execution_count": 4,
   "id": "40df6916",
   "metadata": {},
   "outputs": [
    {
     "data": {
      "text/plain": [
       "{np.float64(100.0): array([15.97076314, 23.81262719,  8.8705733 , ..., 10.63447133,\n",
       "        20.22932091,  9.74831686]),\n",
       " np.float64(110.0): array([ 6.4584689 , 14.30033295,  0.        , ...,  1.12217708,\n",
       "        10.71702666,  0.23602261])}"
      ]
     },
     "execution_count": 4,
     "metadata": {},
     "output_type": "execute_result"
    }
   ],
   "source": [
    "Heston_model.call_MC_payoff_"
   ]
  },
  {
   "cell_type": "code",
   "execution_count": 5,
   "id": "6a319bc0",
   "metadata": {},
   "outputs": [
    {
     "data": {
      "text/html": [
       "<div>\n",
       "<style scoped>\n",
       "    .dataframe tbody tr th:only-of-type {\n",
       "        vertical-align: middle;\n",
       "    }\n",
       "\n",
       "    .dataframe tbody tr th {\n",
       "        vertical-align: top;\n",
       "    }\n",
       "\n",
       "    .dataframe thead th {\n",
       "        text-align: right;\n",
       "    }\n",
       "</style>\n",
       "<table border=\"1\" class=\"dataframe\">\n",
       "  <thead>\n",
       "    <tr style=\"text-align: right;\">\n",
       "      <th></th>\n",
       "      <th>K</th>\n",
       "      <th>P_1</th>\n",
       "      <th>P_2</th>\n",
       "      <th>C_0</th>\n",
       "    </tr>\n",
       "  </thead>\n",
       "  <tbody>\n",
       "    <tr>\n",
       "      <th>0</th>\n",
       "      <td>100.0</td>\n",
       "      <td>0.611517</td>\n",
       "      <td>0.531051</td>\n",
       "      <td>7.654186</td>\n",
       "    </tr>\n",
       "    <tr>\n",
       "      <th>1</th>\n",
       "      <td>110.0</td>\n",
       "      <td>0.383344</td>\n",
       "      <td>0.313771</td>\n",
       "      <td>3.633373</td>\n",
       "    </tr>\n",
       "  </tbody>\n",
       "</table>\n",
       "</div>"
      ],
      "text/plain": [
       "       K       P_1       P_2       C_0\n",
       "0  100.0  0.611517  0.531051  7.654186\n",
       "1  110.0  0.383344  0.313771  3.633373"
      ]
     },
     "execution_count": 5,
     "metadata": {},
     "output_type": "execute_result"
    }
   ],
   "source": [
    "Bates_model.call_CF_"
   ]
  },
  {
   "cell_type": "code",
   "execution_count": 6,
   "id": "2a730659",
   "metadata": {},
   "outputs": [
    {
     "data": {
      "text/html": [
       "<div>\n",
       "<style scoped>\n",
       "    .dataframe tbody tr th:only-of-type {\n",
       "        vertical-align: middle;\n",
       "    }\n",
       "\n",
       "    .dataframe tbody tr th {\n",
       "        vertical-align: top;\n",
       "    }\n",
       "\n",
       "    .dataframe thead th {\n",
       "        text-align: right;\n",
       "    }\n",
       "</style>\n",
       "<table border=\"1\" class=\"dataframe\">\n",
       "  <thead>\n",
       "    <tr style=\"text-align: right;\">\n",
       "      <th></th>\n",
       "      <th>K</th>\n",
       "      <th>C_0_mu</th>\n",
       "      <th>C_0_std</th>\n",
       "    </tr>\n",
       "  </thead>\n",
       "  <tbody>\n",
       "    <tr>\n",
       "      <th>0</th>\n",
       "      <td>100.0</td>\n",
       "      <td>7.642101</td>\n",
       "      <td>0.110695</td>\n",
       "    </tr>\n",
       "    <tr>\n",
       "      <th>1</th>\n",
       "      <td>110.0</td>\n",
       "      <td>3.637309</td>\n",
       "      <td>0.079835</td>\n",
       "    </tr>\n",
       "  </tbody>\n",
       "</table>\n",
       "</div>"
      ],
      "text/plain": [
       "       K    C_0_mu   C_0_std\n",
       "0  100.0  7.642101  0.110695\n",
       "1  110.0  3.637309  0.079835"
      ]
     },
     "execution_count": 6,
     "metadata": {},
     "output_type": "execute_result"
    }
   ],
   "source": [
    "Bates_model.call_MC_"
   ]
  },
  {
   "cell_type": "code",
   "execution_count": 7,
   "id": "59077cde",
   "metadata": {},
   "outputs": [
    {
     "data": {
      "text/plain": [
       "{np.float64(100.0): array([15.41529693, 23.21795183,  0.        , ...,  6.92385328,\n",
       "        14.17052562,  9.84962419]),\n",
       " np.float64(110.0): array([ 5.90300269, 13.70565758,  0.        , ...,  0.        ,\n",
       "         4.65823138,  0.33732995])}"
      ]
     },
     "execution_count": 7,
     "metadata": {},
     "output_type": "execute_result"
    }
   ],
   "source": [
    "Bates_model.call_MC_payoff_"
   ]
  },
  {
   "cell_type": "markdown",
   "id": "a6c4c636",
   "metadata": {},
   "source": [
    "### Calculating the Delta $\\frac{\\partial C_0}{\\partial S_0}$ "
   ]
  },
  {
   "cell_type": "markdown",
   "id": "ad17e8f0",
   "metadata": {},
   "source": [
    "#### **Cheating like reasoning**\n",
    "It is known that $\\frac{\\partial C_0}{\\partial S_0}=e^{-qT}P_1$ for Heston model. Observe that all jump factors added to $P_1$ and $P_2$ to generalize them from the Heston model to the Bates model are independent of $S_0$. We will, hence, still have \n",
    "$$\n",
    "\\frac{\\partial C_0}{\\partial S_0} = e^{-qT}P_1 \n",
    "$$\n",
    "for the case of Bates models. "
   ]
  },
  {
   "cell_type": "markdown",
   "id": "5709a50c",
   "metadata": {},
   "source": [
    "#### **A summary of the actual reasoning**\n",
    "\n",
    "Recall the definition of \n",
    "$$\n",
    "C_0=e^{-rT}\\mathbb{E}[max(S_T-K,0)]\\; . \n",
    "$$\n",
    "We now denote $M:=log(\\frac{S_T}{S_0})$ (i.e. $S_T=S_0e^{M}$) and observe that \n",
    "$$\n",
    "C_0=e^{-rT}\\mathbb{E}[max(S_0e^{M}-K, 0)]=e^{-rT}\\mathbb{E}[(S_0e^{M}-K)\\mathbb{1}_{S_T>K}]\\; . \n",
    "$$\n",
    "Take derivative on both sides in respect to $S_0$ (\"bring\" the product rule into the expected value), we have \n",
    "$$\n",
    "\\frac{\\partial C_0}{\\partial S_0} = e^{-rT}\\mathbb{E}[e^{M}\\mathbb{1}_{S_T>K}] + e^{-rT}\\mathbb{E}[(S_0e^M-K)\\delta(S_0e^M-K)e^M]\\; , \n",
    "$$\n",
    "where $\\delta$ is the *Dirac delta function* (derivative to the Heaviside step function $\\mathbb{1}_{*>0}$), notice, also, that due to the fact the $d(log(S_T))$ has no $S_0$ in it, law of $M$ does not depend on $S_0$. \n",
    "Dirac delta function has *shifting property* $\\int_{-\\infty}^{\\infty}f(x)\\delta(x-x_0)dx=f(x_0)$, which results in \n",
    "$$\n",
    "\\mathbb{E}[(S_0e^M-K)\\delta(S_0e^M-K)e^M] = 0\\; , \n",
    "$$\n",
    "and so, \n",
    "$$\n",
    "\\frac{\\partial C_0}{\\partial S_0} = e^{-rT}\\mathbb{E}[e^{M}\\mathbb{1}_{S_T>K}] = e^{-qT}P_1\\; . \n",
    "$$"
   ]
  },
  {
   "cell_type": "code",
   "execution_count": 8,
   "id": "49f1ad21",
   "metadata": {},
   "outputs": [],
   "source": [
    "Bates_model.bates_est_call_Delta_CF(strike_price=strike_price, time_len=time_len, u_max=800, du=1e-2)\n",
    "Heston_model.bates_est_call_Delta_CF(strike_price=strike_price, time_len=time_len, u_max=800, du=1e-2); "
   ]
  },
  {
   "cell_type": "code",
   "execution_count": 10,
   "id": "4fc457f2",
   "metadata": {},
   "outputs": [
    {
     "data": {
      "text/html": [
       "<div>\n",
       "<style scoped>\n",
       "    .dataframe tbody tr th:only-of-type {\n",
       "        vertical-align: middle;\n",
       "    }\n",
       "\n",
       "    .dataframe tbody tr th {\n",
       "        vertical-align: top;\n",
       "    }\n",
       "\n",
       "    .dataframe thead th {\n",
       "        text-align: right;\n",
       "    }\n",
       "</style>\n",
       "<table border=\"1\" class=\"dataframe\">\n",
       "  <thead>\n",
       "    <tr style=\"text-align: right;\">\n",
       "      <th></th>\n",
       "      <th>K</th>\n",
       "      <th>call_Delta</th>\n",
       "    </tr>\n",
       "  </thead>\n",
       "  <tbody>\n",
       "    <tr>\n",
       "      <th>0</th>\n",
       "      <td>100.0</td>\n",
       "      <td>0.581693</td>\n",
       "    </tr>\n",
       "    <tr>\n",
       "      <th>1</th>\n",
       "      <td>110.0</td>\n",
       "      <td>0.364649</td>\n",
       "    </tr>\n",
       "  </tbody>\n",
       "</table>\n",
       "</div>"
      ],
      "text/plain": [
       "       K  call_Delta\n",
       "0  100.0    0.581693\n",
       "1  110.0    0.364649"
      ]
     },
     "execution_count": 10,
     "metadata": {},
     "output_type": "execute_result"
    }
   ],
   "source": [
    "Bates_model.call_Delta_CF_"
   ]
  },
  {
   "cell_type": "code",
   "execution_count": 11,
   "id": "b8fbfe87",
   "metadata": {},
   "outputs": [
    {
     "data": {
      "text/html": [
       "<div>\n",
       "<style scoped>\n",
       "    .dataframe tbody tr th:only-of-type {\n",
       "        vertical-align: middle;\n",
       "    }\n",
       "\n",
       "    .dataframe tbody tr th {\n",
       "        vertical-align: top;\n",
       "    }\n",
       "\n",
       "    .dataframe thead th {\n",
       "        text-align: right;\n",
       "    }\n",
       "</style>\n",
       "<table border=\"1\" class=\"dataframe\">\n",
       "  <thead>\n",
       "    <tr style=\"text-align: right;\">\n",
       "      <th></th>\n",
       "      <th>K</th>\n",
       "      <th>call_Delta</th>\n",
       "    </tr>\n",
       "  </thead>\n",
       "  <tbody>\n",
       "    <tr>\n",
       "      <th>0</th>\n",
       "      <td>100.0</td>\n",
       "      <td>0.608068</td>\n",
       "    </tr>\n",
       "    <tr>\n",
       "      <th>1</th>\n",
       "      <td>110.0</td>\n",
       "      <td>0.347129</td>\n",
       "    </tr>\n",
       "  </tbody>\n",
       "</table>\n",
       "</div>"
      ],
      "text/plain": [
       "       K  call_Delta\n",
       "0  100.0    0.608068\n",
       "1  110.0    0.347129"
      ]
     },
     "execution_count": 11,
     "metadata": {},
     "output_type": "execute_result"
    }
   ],
   "source": [
    "Heston_model.call_Delta_CF_"
   ]
  },
  {
   "cell_type": "markdown",
   "id": "3cf34296",
   "metadata": {},
   "source": [
    "### Calculating the Delta for all steps (preparation for hedging simulation) "
   ]
  },
  {
   "cell_type": "markdown",
   "id": "db17abe7",
   "metadata": {},
   "source": [
    "Calculating Delta for all steps with each $S$ (the *current spot price*) can be very computation consuming if we calculate each characteristic function on its own. But we can notice that the equation for Delta does not really rely on $S$ as anything other than within a constant. Observe that, if we set $\\zeta:= ln(\\frac{K}{S})$, we will have that \n",
    "$$\n",
    "P_1=\\frac{1}{2} + \\frac{1}{\\pi}\\int_{0}^{\\infty} Real(e^{-iu\\zeta} A_1(u,T))\\; du\\; \\text{, where } A_1(u, T):= \\frac{\\tilde{\\phi}(u-i, T)}{iu \\tilde{\\phi}(-i, T)}\\; , \n",
    "$$\n",
    "where the \"characteristic functions\" $\\tilde{\\phi}$'s within $A_1$ can be taken as \n",
    "$$\n",
    "\\tilde{\\phi}(u,T):=exp(iu(r-q-\\lambda\\kappa_Y)T + C(u,T) + D(u,T)v_0)\\times exp(\\lambda T (exp(iu\\mu_Y-\\frac{u^2\\delta^2_Y}{2})-1))\\; , \n",
    "$$\n",
    "that is, the original characteristic functions $\\phi$'s without any $S_0$ (or $S$, for current context).  "
   ]
  },
  {
   "cell_type": "code",
   "execution_count": 1,
   "id": "18e9b93b",
   "metadata": {},
   "outputs": [
    {
     "data": {
      "text/plain": [
       "<proj_mod.stock_sim.Bates_model_risk_free at 0x7f7d4448bed0>"
      ]
     },
     "execution_count": 1,
     "metadata": {},
     "output_type": "execute_result"
    }
   ],
   "source": [
    "import importlib \n",
    "import numpy as np\n",
    "import sys \n",
    "\n",
    "sys.path.append(\"../\")\n",
    "\n",
    "from proj_mod import stock_sim \n",
    "importlib.reload(stock_sim); \n",
    "\n",
    "vol_param=stock_sim.Vol_params(kappa=1.5, theta=0.04, sigma=0.5, rho=-0.7, v0=0.04)\n",
    "jump_param=stock_sim.Jump_params(lam_J=1, mu_J=0, sig_J=0.1)\n",
    "market_param=stock_sim.Market_params(r=0.05, q=0.05)\n",
    "Bates_param=stock_sim.Bates_params(s0=100, vol=vol_param, jump=jump_param, market=market_param)\n",
    "\n",
    "no_jump_param=stock_sim.Jump_params(lam_J=0, mu_J=0, sig_J=0)\n",
    "Heston_param=stock_sim.Bates_params(s0=100, vol=vol_param, jump=no_jump_param, market=market_param)\n",
    "\n",
    "strike_price=np.array([100,110])\n",
    "time_len=1\n",
    "\n",
    "Bates_model=stock_sim.Bates_model_risk_free(params=Bates_param)\n",
    "Heston_model=stock_sim.Bates_model_risk_free(params=Heston_param)\n",
    "\n",
    "Bates_model.bates_create_paths(n_paths=100, n_steps=252, time_len=1, seed=420)\n",
    "Heston_model.bates_create_paths(n_paths=100, n_steps=252, time_len=1, seed=420)"
   ]
  },
  {
   "cell_type": "code",
   "execution_count": 2,
   "id": "93fee4ff",
   "metadata": {},
   "outputs": [
    {
     "data": {
      "text/html": [
       "<div>\n",
       "<style scoped>\n",
       "    .dataframe tbody tr th:only-of-type {\n",
       "        vertical-align: middle;\n",
       "    }\n",
       "\n",
       "    .dataframe tbody tr th {\n",
       "        vertical-align: top;\n",
       "    }\n",
       "\n",
       "    .dataframe thead th {\n",
       "        text-align: right;\n",
       "    }\n",
       "</style>\n",
       "<table border=\"1\" class=\"dataframe\">\n",
       "  <thead>\n",
       "    <tr style=\"text-align: right;\">\n",
       "      <th></th>\n",
       "      <th>K</th>\n",
       "      <th>call_Delta</th>\n",
       "    </tr>\n",
       "  </thead>\n",
       "  <tbody>\n",
       "    <tr>\n",
       "      <th>0</th>\n",
       "      <td>100.0</td>\n",
       "      <td>0.581067</td>\n",
       "    </tr>\n",
       "    <tr>\n",
       "      <th>1</th>\n",
       "      <td>110.0</td>\n",
       "      <td>0.366619</td>\n",
       "    </tr>\n",
       "  </tbody>\n",
       "</table>\n",
       "</div>"
      ],
      "text/plain": [
       "       K  call_Delta\n",
       "0  100.0    0.581067\n",
       "1  110.0    0.366619"
      ]
     },
     "execution_count": 2,
     "metadata": {},
     "output_type": "execute_result"
    }
   ],
   "source": [
    "Bates_model.bates_est_call_Delta_CF(strike_price=strike_price, time_len=time_len, u_max=100, du=0.1)"
   ]
  },
  {
   "cell_type": "code",
   "execution_count": 3,
   "id": "0694efdc",
   "metadata": {},
   "outputs": [
    {
     "data": {
      "text/plain": [
       "<proj_mod.stock_sim.Bates_model_risk_free at 0x7f7dac1157d0>"
      ]
     },
     "execution_count": 3,
     "metadata": {},
     "output_type": "execute_result"
    }
   ],
   "source": [
    "Bates_model._bates_Call_Delta_mat_all_step_(strike_price=strike_price)"
   ]
  },
  {
   "cell_type": "code",
   "execution_count": 4,
   "id": "c2687a05",
   "metadata": {},
   "outputs": [
    {
     "data": {
      "text/plain": [
       "array([[[0.58106684, 0.56980546, 0.53508146, ..., 0.80041661,\n",
       "         0.91672709, 0.93452088],\n",
       "        [0.58106684, 0.59653235, 0.57126827, ..., 0.98709935,\n",
       "         0.98669772, 0.98551581],\n",
       "        [0.58106684, 0.59157201, 0.6409066 , ..., 0.99513197,\n",
       "         0.99478461, 0.99485136],\n",
       "        ...,\n",
       "        [0.58106684, 0.5493396 , 0.53701441, ..., 0.00704841,\n",
       "         0.0083632 , 0.01126823],\n",
       "        [0.58106684, 0.59825625, 0.58100173, ..., 0.97333704,\n",
       "         0.96841872, 1.02352894],\n",
       "        [0.58106684, 0.64969829, 0.66743533, ..., 0.98845663,\n",
       "         0.98751705, 0.98660053]],\n",
       "\n",
       "       [[0.36661919, 0.35258498, 0.31280924, ..., 0.00960521,\n",
       "         0.01368122, 0.017426  ],\n",
       "        [0.36661919, 0.38521234, 0.35377499, ..., 0.98994305,\n",
       "         0.99127342, 0.99360916],\n",
       "        [0.36661919, 0.3790006 , 0.44330264, ..., 0.2970678 ,\n",
       "         0.21439447, 0.15916813],\n",
       "        ...,\n",
       "        [0.36661919, 0.32901963, 0.31489863, ..., 0.00826453,\n",
       "         0.00712596, 0.00480316],\n",
       "        [0.36661919, 0.3873876 , 0.36545739, ..., 0.00717098,\n",
       "         0.01060698, 0.02108411],\n",
       "        [0.36661919, 0.4560672 , 0.48084255, ..., 0.99354001,\n",
       "         0.99546184, 0.99725926]]])"
      ]
     },
     "execution_count": 4,
     "metadata": {},
     "output_type": "execute_result"
    }
   ],
   "source": [
    "Bates_model.call_Delta_all_steps_"
   ]
  },
  {
   "cell_type": "markdown",
   "id": "8db39dba",
   "metadata": {},
   "source": [
    "Above has shape (num K, num paths, num steps). "
   ]
  },
  {
   "cell_type": "code",
   "execution_count": 5,
   "id": "61932f60",
   "metadata": {},
   "outputs": [
    {
     "data": {
      "text/plain": [
       "(2, 100, 252)"
      ]
     },
     "execution_count": 5,
     "metadata": {},
     "output_type": "execute_result"
    }
   ],
   "source": [
    "Bates_model.call_Delta_all_steps_.shape"
   ]
  },
  {
   "cell_type": "markdown",
   "id": "260ddf9a",
   "metadata": {},
   "source": [
    "### A simulated hedging at every step "
   ]
  },
  {
   "cell_type": "code",
   "execution_count": 6,
   "id": "91633e01",
   "metadata": {},
   "outputs": [
    {
     "data": {
      "text/plain": [
       "<proj_mod.stock_sim.Bates_model_risk_free at 0x7f7dac1157d0>"
      ]
     },
     "execution_count": 6,
     "metadata": {},
     "output_type": "execute_result"
    }
   ],
   "source": [
    "Bates_model.bates_hedged_stock_income_all_step(strike_price=strike_price)"
   ]
  },
  {
   "cell_type": "code",
   "execution_count": 10,
   "id": "59ba2932",
   "metadata": {},
   "outputs": [],
   "source": [
    "Bates_model.bates_call_payoffs(strike_price=strike_price);"
   ]
  },
  {
   "cell_type": "code",
   "execution_count": 12,
   "id": "728c7b2c",
   "metadata": {},
   "outputs": [
    {
     "data": {
      "text/plain": [
       "array([[ 2.62925234, 45.14347537,  8.35060789,  0.        , 22.081116  ,\n",
       "         9.09131432, 15.884211  ,  0.        ,  0.        , 12.44628404,\n",
       "         0.        , 10.92344141, 13.75839295,  3.17099797, 13.90816468,\n",
       "         0.        ,  2.59293596,  0.        ,  3.56262548, 15.52666734,\n",
       "         0.        ,  0.        ,  0.        , 16.59697976, 10.41911926,\n",
       "         0.        ,  2.98310558,  3.42541481,  0.        ,  0.        ,\n",
       "         9.50901754,  0.        ,  0.        ,  7.06476908,  8.64565655,\n",
       "         9.39842558, 21.13124525,  0.        ,  0.        ,  0.        ,\n",
       "        13.82616966,  0.        , 12.46217381,  0.        ,  3.48213894,\n",
       "         1.10884934,  0.        ,  0.        ,  4.96719685,  6.33329787,\n",
       "         0.        ,  1.25270213,  0.        ,  6.79591748,  0.        ,\n",
       "         0.89906157,  6.10184441,  0.        ,  0.        ,  5.51293406,\n",
       "         0.        ,  0.        ,  0.        ,  0.        , 18.93993161,\n",
       "         0.        ,  0.        ,  5.99574406,  0.        ,  0.        ,\n",
       "         0.        , 10.40273616, 28.52348215, 16.6847758 ,  0.        ,\n",
       "         8.5039932 ,  0.        ,  0.68886487, 10.47416062,  0.        ,\n",
       "         2.59700771,  0.        ,  0.        ,  0.        ,  0.        ,\n",
       "        19.62260085, 20.17162302, 16.74033135, 13.32269358, 19.3595739 ,\n",
       "         4.57950829, 35.3382079 ,  0.        ,  5.40348693,  0.        ,\n",
       "         8.84317678, 24.80943641,  0.        ,  3.89015524, 36.27685128],\n",
       "       [ 0.        , 35.63118112,  0.        ,  0.        , 12.56882176,\n",
       "         0.        ,  6.37191675,  0.        ,  0.        ,  2.93398979,\n",
       "         0.        ,  1.41114716,  4.24609871,  0.        ,  4.39587044,\n",
       "         0.        ,  0.        ,  0.        ,  0.        ,  6.0143731 ,\n",
       "         0.        ,  0.        ,  0.        ,  7.08468551,  0.90682502,\n",
       "         0.        ,  0.        ,  0.        ,  0.        ,  0.        ,\n",
       "         0.        ,  0.        ,  0.        ,  0.        ,  0.        ,\n",
       "         0.        , 11.61895101,  0.        ,  0.        ,  0.        ,\n",
       "         4.31387541,  0.        ,  2.94987957,  0.        ,  0.        ,\n",
       "         0.        ,  0.        ,  0.        ,  0.        ,  0.        ,\n",
       "         0.        ,  0.        ,  0.        ,  0.        ,  0.        ,\n",
       "         0.        ,  0.        ,  0.        ,  0.        ,  0.        ,\n",
       "         0.        ,  0.        ,  0.        ,  0.        ,  9.42763736,\n",
       "         0.        ,  0.        ,  0.        ,  0.        ,  0.        ,\n",
       "         0.        ,  0.89044191, 19.01118791,  7.17248156,  0.        ,\n",
       "         0.        ,  0.        ,  0.        ,  0.96186638,  0.        ,\n",
       "         0.        ,  0.        ,  0.        ,  0.        ,  0.        ,\n",
       "        10.1103066 , 10.65932878,  7.2280371 ,  3.81039934,  9.84727966,\n",
       "         0.        , 25.82591365,  0.        ,  0.        ,  0.        ,\n",
       "         0.        , 15.29714216,  0.        ,  0.        , 26.76455704]])"
      ]
     },
     "execution_count": 12,
     "metadata": {},
     "output_type": "execute_result"
    }
   ],
   "source": [
    "Bates_model.bates_call_payoffs_"
   ]
  },
  {
   "cell_type": "code",
   "execution_count": 13,
   "id": "d62760d7",
   "metadata": {},
   "outputs": [],
   "source": [
    "Bates_model.bates_est_call_payoff_CF(strike_price=strike_price, time_len=time_len, u_max=100, du=0.1);"
   ]
  },
  {
   "cell_type": "code",
   "execution_count": 14,
   "id": "5af37ebf",
   "metadata": {},
   "outputs": [
    {
     "data": {
      "text/html": [
       "<div>\n",
       "<style scoped>\n",
       "    .dataframe tbody tr th:only-of-type {\n",
       "        vertical-align: middle;\n",
       "    }\n",
       "\n",
       "    .dataframe tbody tr th {\n",
       "        vertical-align: top;\n",
       "    }\n",
       "\n",
       "    .dataframe thead th {\n",
       "        text-align: right;\n",
       "    }\n",
       "</style>\n",
       "<table border=\"1\" class=\"dataframe\">\n",
       "  <thead>\n",
       "    <tr style=\"text-align: right;\">\n",
       "      <th></th>\n",
       "      <th>K</th>\n",
       "      <th>P_1</th>\n",
       "      <th>P_2</th>\n",
       "      <th>C_0</th>\n",
       "    </tr>\n",
       "  </thead>\n",
       "  <tbody>\n",
       "    <tr>\n",
       "      <th>0</th>\n",
       "      <td>100.0</td>\n",
       "      <td>0.610859</td>\n",
       "      <td>0.531767</td>\n",
       "      <td>7.523448</td>\n",
       "    </tr>\n",
       "    <tr>\n",
       "      <th>1</th>\n",
       "      <td>110.0</td>\n",
       "      <td>0.385416</td>\n",
       "      <td>0.317217</td>\n",
       "      <td>3.469868</td>\n",
       "    </tr>\n",
       "  </tbody>\n",
       "</table>\n",
       "</div>"
      ],
      "text/plain": [
       "       K       P_1       P_2       C_0\n",
       "0  100.0  0.610859  0.531767  7.523448\n",
       "1  110.0  0.385416  0.317217  3.469868"
      ]
     },
     "execution_count": 14,
     "metadata": {},
     "output_type": "execute_result"
    }
   ],
   "source": [
    "Bates_model.call_CF_"
   ]
  },
  {
   "cell_type": "code",
   "execution_count": null,
   "id": "5d9fcbb5",
   "metadata": {},
   "outputs": [
    {
     "data": {
      "text/plain": [
       "array([[-2.99746738e+00,  4.01912189e+01,  4.57900953e+00,\n",
       "        -1.05997924e+01,  1.17098496e+01,  4.05242819e+00,\n",
       "         8.27394192e+00, -4.59400891e+00, -6.59418131e+00,\n",
       "         8.12998016e+00, -9.09400251e+00,  7.18553178e+00,\n",
       "         1.04722033e+01, -1.57593246e+00,  9.61794617e+00,\n",
       "        -7.86719292e+00, -2.52276707e+00, -5.55528241e+00,\n",
       "        -6.89550313e+00,  8.51066652e+00, -9.82999190e+00,\n",
       "        -9.63785824e+00, -8.58515604e+00,  1.22698047e+01,\n",
       "         1.09012545e+00, -7.32597699e+00, -5.37932015e+00,\n",
       "        -4.51573286e-03, -5.33604360e+00, -3.23834406e+00,\n",
       "         1.30140808e+00, -7.81033606e+00, -1.15268577e+01,\n",
       "         1.25058059e+00,  3.96699177e+00,  4.91142875e+00,\n",
       "         1.67217210e+01, -1.19919600e+01, -1.33604119e+01,\n",
       "        -6.32570047e+00,  8.73307460e+00, -6.88725423e+00,\n",
       "         7.85308230e+00, -4.21987612e+00, -1.59819307e-02,\n",
       "        -1.94843973e+00, -1.04330842e+01, -9.01646948e+00,\n",
       "         2.68978019e-01, -2.82646494e+00, -5.88296216e+00,\n",
       "        -6.96777016e+00, -9.15003427e+00,  2.83780307e+00,\n",
       "        -1.23272604e+01, -1.17774555e+00,  3.41530590e-02,\n",
       "        -1.29519204e+01, -1.09041724e+01,  2.51392310e+00,\n",
       "        -6.29881058e+00, -1.47612642e+01, -1.11504662e+01,\n",
       "        -8.39013242e+00,  1.15752517e+01, -9.28030795e+00,\n",
       "        -9.48071556e+00,  9.19656268e-01, -6.73954877e+00,\n",
       "        -8.93625072e+00, -1.56786171e+01,  3.91468094e+00,\n",
       "         2.21264920e+01,  4.95706864e+00, -6.28202449e+00,\n",
       "        -2.81616050e+00, -5.78856508e+00, -1.00395949e+01,\n",
       "         6.15178803e+00, -7.29598431e+00, -5.10930360e+00,\n",
       "        -3.55487195e+00, -8.94815950e+00, -8.68534927e+00,\n",
       "        -1.04837237e+01,  1.39285085e+01,  1.63233616e+01,\n",
       "         1.25767254e+01,  7.01986869e+00,  6.43243180e+00,\n",
       "         1.05407041e+00,  2.77419513e+01, -6.55890238e+00,\n",
       "         1.13585070e+00, -5.90000349e+00,  3.93923525e+00,\n",
       "         4.36522023e+00, -8.32379564e+00, -1.11802982e+01,\n",
       "         3.10616911e+01],\n",
       "       [-3.58240282e+00,  3.48921676e+01,  1.06348522e+00,\n",
       "        -4.37476809e+00,  4.74153990e+00, -9.89716589e-01,\n",
       "         4.52528235e+00, -2.08252498e+00, -2.25556113e+00,\n",
       "         5.09389677e+00, -4.53558414e+00,  4.61661974e+00,\n",
       "         3.18702456e+00, -1.94013511e+00,  5.84501463e+00,\n",
       "        -2.24693660e+00, -3.34856458e+00, -2.75991140e+00,\n",
       "        -4.95054641e+00,  2.91845087e+00, -5.10813258e+00,\n",
       "        -4.88187888e+00, -4.36079941e+00,  8.61873957e+00,\n",
       "        -6.00068106e+00, -3.78850087e+00, -4.28451888e+00,\n",
       "        -2.03525481e+00, -3.63628841e+00, -1.87232168e+00,\n",
       "        -1.47293500e+00, -5.04175995e+00, -5.34961242e+00,\n",
       "        -2.97783158e+00,  1.65932121e-01,  9.42205747e-01,\n",
       "         1.22326349e+01, -6.77095076e+00, -5.91610076e+00,\n",
       "        -3.23466586e+00,  4.40510121e+00, -4.21868501e+00,\n",
       "         2.43871649e+00, -2.42051296e+00, -2.31885687e+00,\n",
       "        -2.43460369e+00, -4.53055765e+00, -5.19928481e+00,\n",
       "        -2.81992001e+00, -3.97430119e+00, -2.63834924e+00,\n",
       "        -5.75255721e+00, -5.51477722e+00,  8.17348287e-01,\n",
       "        -6.04783811e+00, -1.92502618e-01, -3.19642208e+00,\n",
       "        -8.09734289e+00, -6.40608677e+00,  1.55734817e-01,\n",
       "        -2.45634854e+00, -1.03677343e+01, -6.44365156e+00,\n",
       "        -4.04233394e+00,  7.04608901e+00, -4.90634084e+00,\n",
       "        -5.57540035e+00, -1.76417384e+00, -3.29341318e+00,\n",
       "        -5.45965951e+00, -6.95458750e+00, -1.76556765e+00,\n",
       "         1.72257890e+01, -1.95051105e-01, -2.25199209e+00,\n",
       "        -9.60129085e+00, -2.96531620e+00, -4.49114257e+00,\n",
       "         1.82044972e+00, -3.42580828e+00, -6.54928673e+00,\n",
       "        -2.29273976e+00, -7.34274632e+00, -4.43522956e+00,\n",
       "        -3.90364800e+00,  9.75293899e+00,  1.18661930e+01,\n",
       "         7.29718597e+00,  2.21613913e+00,  2.27032464e+00,\n",
       "        -5.63432487e-01,  2.20204837e+01, -3.15654759e+00,\n",
       "        -2.28638789e+00, -3.68889291e+00,  1.92120361e-01,\n",
       "         4.11331962e+00, -3.79322493e+00, -1.56873501e+01,\n",
       "         2.70535781e+01]])"
      ]
     },
     "execution_count": 15,
     "metadata": {},
     "output_type": "execute_result"
    }
   ],
   "source": [
    "Bates_model.bates_hedged_stock_income_all_step_"
   ]
  },
  {
   "cell_type": "markdown",
   "id": "94d3eb97",
   "metadata": {},
   "source": [
    "Below is the liability of the call option saller according to simulations. "
   ]
  },
  {
   "cell_type": "code",
   "execution_count": null,
   "id": "fcadcf30",
   "metadata": {},
   "outputs": [],
   "source": [
    "hedged_call_payoff=Bates_model.bates_call_payoffs_ - Bates_model.bates_hedged_stock_income_all_step_"
   ]
  },
  {
   "cell_type": "code",
   "execution_count": 17,
   "id": "7b42327d",
   "metadata": {},
   "outputs": [
    {
     "data": {
      "text/plain": [
       "(array([12., 26., 19., 20., 11.,  7.,  2.,  2.,  0.,  1.]),\n",
       " array([ 2.07680712,  3.91354803,  5.75028894,  7.58702984,  9.42377075,\n",
       "        11.26051165, 13.09725256, 14.93399346, 16.77073437, 18.60747528,\n",
       "        20.44421618]),\n",
       " <BarContainer object of 10 artists>)"
      ]
     },
     "execution_count": 17,
     "metadata": {},
     "output_type": "execute_result"
    },
    {
     "data": {
      "image/png": "[encoded data removed]",
      "text/plain": [
       "<Figure size 640x480 with 1 Axes>"
      ]
     },
     "metadata": {},
     "output_type": "display_data"
    }
   ],
   "source": [
    "import matplotlib.pyplot as plt \n",
    "\n",
    "plt.hist(hedged_call_payoff[0])"
   ]
  },
  {
   "cell_type": "code",
   "execution_count": 18,
   "id": "da66fec5",
   "metadata": {},
   "outputs": [
    {
     "data": {
      "text/plain": [
       "(array([ 4., 16., 22., 24., 19., 11.,  1.,  2.,  0.,  1.]),\n",
       " array([-3.20547258, -1.31619031,  0.57309196,  2.46237423,  4.35165649,\n",
       "         6.24093876,  8.13022103, 10.0195033 , 11.90878557, 13.79806784,\n",
       "        15.68735011]),\n",
       " <BarContainer object of 10 artists>)"
      ]
     },
     "execution_count": 18,
     "metadata": {},
     "output_type": "execute_result"
    },
    {
     "data": {
      "image/png": "[encoded data removed]",
      "text/plain": [
       "<Figure size 640x480 with 1 Axes>"
      ]
     },
     "metadata": {},
     "output_type": "display_data"
    }
   ],
   "source": [
    "plt.hist(hedged_call_payoff[1])"
   ]
  },
  {
   "cell_type": "markdown",
   "id": "e82eda6d",
   "metadata": {},
   "source": [
    "Below is what the call option seller \"income\" if price the option at the $C_0$ with characteristic function method. "
   ]
  },
  {
   "cell_type": "code",
   "execution_count": 19,
   "id": "3da05a5d",
   "metadata": {},
   "outputs": [],
   "source": [
    "mark_maker_hedged_profit=Bates_model.call_CF_[\"C_0\"].to_numpy()[:, None] - hedged_call_payoff"
   ]
  },
  {
   "cell_type": "code",
   "execution_count": 20,
   "id": "4f7aee5e",
   "metadata": {},
   "outputs": [
    {
     "data": {
      "text/plain": [
       "(array([ 1.,  0.,  2.,  2.,  7., 11., 20., 19., 26., 12.]),\n",
       " array([-12.9207685 , -11.08402759,  -9.24728669,  -7.41054578,\n",
       "         -5.57380488,  -3.73706397,  -1.90032307,  -0.06358216,\n",
       "          1.77315875,   3.60989965,   5.44664056]),\n",
       " <BarContainer object of 10 artists>)"
      ]
     },
     "execution_count": 20,
     "metadata": {},
     "output_type": "execute_result"
    },
    {
     "data": {
      "image/png": "[encoded data removed]",
      "text/plain": [
       "<Figure size 640x480 with 1 Axes>"
      ]
     },
     "metadata": {},
     "output_type": "display_data"
    }
   ],
   "source": [
    "plt.hist(mark_maker_hedged_profit[0])"
   ]
  },
  {
   "cell_type": "code",
   "execution_count": 21,
   "id": "27fbb12c",
   "metadata": {},
   "outputs": [
    {
     "data": {
      "text/plain": [
       "(array([ 1.,  0.,  2.,  1., 11., 19., 24., 22., 16.,  4.]),\n",
       " array([-12.21748226, -10.3282    ,  -8.43891773,  -6.54963546,\n",
       "         -4.66035319,  -2.77107092,  -0.88178865,   1.00749362,\n",
       "          2.89677589,   4.78605816,   6.67534043]),\n",
       " <BarContainer object of 10 artists>)"
      ]
     },
     "execution_count": 21,
     "metadata": {},
     "output_type": "execute_result"
    },
    {
     "data": {
      "image/png": "[encoded data removed]",
      "text/plain": [
       "<Figure size 640x480 with 1 Axes>"
      ]
     },
     "metadata": {},
     "output_type": "display_data"
    }
   ],
   "source": [
    "plt.hist(mark_maker_hedged_profit[1])"
   ]
  },
  {
   "cell_type": "markdown",
   "id": "b684542e",
   "metadata": {},
   "source": [
    "# References "
   ]
  },
  {
   "cell_type": "markdown",
   "id": "ad828ba9",
   "metadata": {},
   "source": [
    "[Hull] Options, Futures, and Other Derivatives, John C Hull "
   ]
  },
  {
   "cell_type": "markdown",
   "id": "52ae919b",
   "metadata": {},
   "source": [
    "[StSh] Stochstic Calculus for Finance II, Steven E Shreve"
   ]
  },
  {
   "cell_type": "markdown",
   "id": "85131cd1",
   "metadata": {},
   "source": [
    "[DB] Jumps and Stochastic Volatility: Exchange Rate Processes Implicit in Deutsche Mark Options, David S Bates "
   ]
  },
  {
   "cell_type": "markdown",
   "id": "6cc715f0",
   "metadata": {},
   "source": [
    "[HPWJ] The Little Heston Trap, Hansj¨org Albrecher, Philipp Mayer, Wim Schoutens, and Jurgen Tistaert"
   ]
  },
  {
   "cell_type": "markdown",
   "id": "64de10e2",
   "metadata": {},
   "source": [
    "[RCPT] Financial Modeling With Jump Process, Rama Cont and Peter Tankov "
   ]
  }
 ],
 "metadata": {
  "kernelspec": {
   "display_name": "deep_learning_3_11_8",
   "language": "python",
   "name": "python3"
  },
  "language_info": {
   "codemirror_mode": {
    "name": "ipython",
    "version": 3
   },
   "file_extension": ".py",
   "mimetype": "text/x-python",
   "name": "python",
   "nbconvert_exporter": "python",
   "pygments_lexer": "ipython3",
   "version": "3.11.8"
  }
 },
 "nbformat": 4,
 "nbformat_minor": 5
}
